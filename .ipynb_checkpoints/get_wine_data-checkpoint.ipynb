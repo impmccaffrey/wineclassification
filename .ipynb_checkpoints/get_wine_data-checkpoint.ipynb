{
 "cells": [
  {
   "cell_type": "markdown",
   "metadata": {},
   "source": [
    "This notebook uses the Kaggle API to fetch our wine data. It downloads the large .csv as a zip, and unzips them in one go.\n",
    "\n",
    "The kaggle.json file stores our API keys downloaded from our Kaggle account."
   ]
  },
  {
   "cell_type": "code",
   "execution_count": null,
   "metadata": {
    "scrolled": true
   },
   "outputs": [],
   "source": [
    "import os\n",
    "import json\n",
    "from kaggle.api.kaggle_api_extended import KaggleApi"
   ]
  },
  {
   "cell_type": "code",
   "execution_count": null,
   "metadata": {},
   "outputs": [],
   "source": [
    "with open('/Users/patrick/.kaggle/kaggle.json') as json_file:  \n",
    "    api_key = json.load(json_file)\n",
    "api = KaggleApi(api_key)\n",
    "api.authenticate()\n",
    "#Change the working directory to where we want to download our files from Kaggle\n",
    "os.chdir('/Users/patrick/Documents/portfolio/Wine Classification/data')"
   ]
  },
  {
   "cell_type": "code",
   "execution_count": null,
   "metadata": {},
   "outputs": [],
   "source": [
    "#load our files and unzip them\n",
    "files = api.dataset_download_files(\"zynicide/wine-reviews\",unzip=True)"
   ]
  }
 ],
 "metadata": {
  "kernelspec": {
   "display_name": "Python3_DS",
   "language": "python",
   "name": "jupyter"
  },
  "language_info": {
   "codemirror_mode": {
    "name": "ipython",
    "version": 3
   },
   "file_extension": ".py",
   "mimetype": "text/x-python",
   "name": "python",
   "nbconvert_exporter": "python",
   "pygments_lexer": "ipython3",
   "version": "3.7.0"
  }
 },
 "nbformat": 4,
 "nbformat_minor": 2
}
