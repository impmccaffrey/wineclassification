{
 "cells": [
  {
   "cell_type": "markdown",
   "metadata": {},
   "source": [
    "## Exploratory Analysis\n",
    "Before I jump into any modeling, I'd like to dig a bit deeper on the data to understand what I am working with. I'll also do some cleanup at this stage.\n",
    "\n",
    "From the sample_data_files notebook we saw there were some duplicate descriptions. I'll start by cleaning this up. I'll also want to look through the varieties and check for spelling mistakes. That will ultimately be our label so I believe it's the best use of time to check first for accuracy"
   ]
  },
  {
   "cell_type": "code",
   "execution_count": null,
   "metadata": {},
   "outputs": [],
   "source": [
    "library(tidyverse)\n",
    "library(stringdist)"
   ]
  },
  {
   "cell_type": "code",
   "execution_count": null,
   "metadata": {
    "scrolled": true
   },
   "outputs": [],
   "source": [
    "csv_dir = '/Users/patrick/Documents/portfolio/Wine Classification/data/'\n",
    "csv_file = 'wine_sample.csv'\n",
    "csv_path = paste0(csv_dir,csv_file)\n",
    "data = readr::read_csv(csv_path)\n",
    "dim(data)\n",
    "data <- data %>%\n",
    "    distinct(description, .keep_all = TRUE) #remove some of the duplicate descs we saw from the pandas profiler\n",
    "dim(data) #dimensions after disctinct; looks like we removed about 30 from this initial sample."
   ]
  },
  {
   "cell_type": "markdown",
   "metadata": {},
   "source": [
    "We had 30 rows of duplicates from the sample descriptions. Since the source of the data is from web scraping it's not surprising that there is not perfect data quality. All things considered, this data is really quite nice off the shelf.\n",
    "\n",
    "My thinking is to focus on:\n",
    "- variety\n",
    "- points\n",
    "- country\n",
    "\n",
    "Seperately, I'll examine description. This I will look at a little differently because of its text/NLP nature."
   ]
  },
  {
   "cell_type": "code",
   "execution_count": null,
   "metadata": {
    "scrolled": true
   },
   "outputs": [],
   "source": [
    "head(data, 3)"
   ]
  },
  {
   "cell_type": "code",
   "execution_count": null,
   "metadata": {
    "scrolled": true
   },
   "outputs": [],
   "source": [
    "summary(data)"
   ]
  },
  {
   "cell_type": "code",
   "execution_count": null,
   "metadata": {
    "scrolled": true
   },
   "outputs": [],
   "source": [
    "points_plot <- ggplot(data = data, aes(x=points)) + geom_density(kernel=\"gaussian\")\n",
    "points_plot"
   ]
  },
  {
   "cell_type": "markdown",
   "metadata": {},
   "source": [
    "### 90 Points is uncharacteristically popular\n",
    "The density plot for the points given doesn't tell us much we did not already know. What I did learn from this is some of the human tendency for the reviewers to give out 90 points. Given that the center is at 88, it looks they are somewhat generous and round up to 90 points in the case of what would more likely be assigned 89. This is a common human bias I've seen pop a lot, not just in wine reviews!"
   ]
  },
  {
   "cell_type": "markdown",
   "metadata": {},
   "source": [
    "### Fuzzy String Matching\n",
    "I consider it best practice to clean up strings, especially if they're going to be our labels. Here I'm using some heuristics for string distance to check for varietals that should be grouped together."
   ]
  },
  {
   "cell_type": "code",
   "execution_count": null,
   "metadata": {},
   "outputs": [],
   "source": [
    "data %>%\n",
    "    select(variety) %>%\n",
    "    distinct() %>%\n",
    "    arrange(variety)"
   ]
  },
  {
   "cell_type": "code",
   "execution_count": null,
   "metadata": {},
   "outputs": [],
   "source": [
    "var_str_matrix <- stringdist::stringdistmatrix(data$variety, data$variety)"
   ]
  },
  {
   "cell_type": "code",
   "execution_count": null,
   "metadata": {
    "scrolled": true
   },
   "outputs": [],
   "source": [
    "var_str_matrix <- as.matrix(var_str_matrix * (var_str_matrix < 5))"
   ]
  },
  {
   "cell_type": "code",
   "execution_count": null,
   "metadata": {},
   "outputs": [],
   "source": [
    "str_distance <- melt(var_str_matrix) %>%\n",
    "    distinct() %>% \n",
    "    filter(value > 0 & value < 5)"
   ]
  }
 ],
 "metadata": {
  "kernelspec": {
   "display_name": "R",
   "language": "R",
   "name": "ir"
  },
  "language_info": {
   "codemirror_mode": "r",
   "file_extension": ".r",
   "mimetype": "text/x-r-source",
   "name": "R",
   "pygments_lexer": "r",
   "version": "3.5.1"
  }
 },
 "nbformat": 4,
 "nbformat_minor": 2
}
